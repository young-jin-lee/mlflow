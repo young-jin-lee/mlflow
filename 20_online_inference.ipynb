{
 "cells": [
  {
   "cell_type": "markdown",
   "metadata": {},
   "source": []
  },
  {
   "cell_type": "code",
   "execution_count": null,
   "metadata": {},
   "outputs": [],
   "source": [
    "import json\n",
    "import requests\n",
    "\n",
    "data = {\n",
    "    \"dataframe_split\": {\"columns\": [\"input\"], \"data\": [15]},\n",
    "    \"params\": {\"model_name\": \"model_1\"},\n",
    "}\n",
    "\n",
    "headers = {\"Content-Type\": \"application/json\"}\n",
    "endpoint = \"http://127.0.0.1:5000/invocations\"\n",
    "\n",
    "r = requests.post(endpoint, data=json.dumps(data), headers=headers)\n",
    "print(r.status_code)\n",
    "print(r.text)"
   ]
  }
 ],
 "metadata": {
  "kernelspec": {
   "display_name": "mlflow",
   "language": "python",
   "name": "python3"
  },
  "language_info": {
   "name": "python",
   "version": "3.10.16"
  }
 },
 "nbformat": 4,
 "nbformat_minor": 2
}
