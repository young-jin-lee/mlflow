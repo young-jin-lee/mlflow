{
 "cells": [
  {
   "cell_type": "code",
   "execution_count": 1,
   "metadata": {},
   "outputs": [
    {
     "name": "stdout",
     "output_type": "stream",
     "text": [
      "Experiment hyperopt_experiment already exists.\n",
      "Experiment ID: 677228242464970646\n"
     ]
    }
   ],
   "source": [
    "import mlflow\n",
    "from mlflow_utils import create_mlflow_experiment\n",
    "\n",
    "experiment_id = create_mlflow_experiment(\n",
    "    \"hyperopt_experiment\",\n",
    "    artifact_location=\"hyperopt_mlflow_artifacts\",\n",
    "    tags={\"mlflow.note.content\": \"hyperopt experiment\"}\n",
    ")\n",
    "\n",
    "print(f\"Experiment ID: {experiment_id}\")  # Check if a valid ID is returned"
   ]
  },
  {
   "cell_type": "code",
   "execution_count": 4,
   "metadata": {},
   "outputs": [
    {
     "name": "stdout",
     "output_type": "stream",
     "text": [
      "Using existing experiment: hyperopt_experiment (ID: 812250175682406393)\n"
     ]
    },
    {
     "data": {
      "text/plain": [
       "<Experiment: artifact_location='file:///C:/Users/dof07/Desktop/mlflow/hyperopt_mlflow_artifacts', creation_time=1742190852322, experiment_id='812250175682406393', last_update_time=1742190852322, lifecycle_stage='active', name='hyperopt_experiment', tags={'mlflow.note.content': 'hyperopt experiment'}>"
      ]
     },
     "execution_count": 4,
     "metadata": {},
     "output_type": "execute_result"
    }
   ],
   "source": [
    "import mlflow\n",
    "\n",
    "experiment_name = \"hyperopt_experiment\"\n",
    "\n",
    "# Ensure experiment exists\n",
    "experiment = mlflow.get_experiment_by_name(experiment_name)\n",
    "\n",
    "if experiment is None:\n",
    "    experiment_id = mlflow.create_experiment(experiment_name)\n",
    "    print(f\"Created new experiment: {experiment_name} (ID: {experiment_id})\")\n",
    "else:\n",
    "    experiment_id = experiment.experiment_id\n",
    "    print(f\"Using existing experiment: {experiment_name} (ID: {experiment_id})\")\n",
    "\n",
    "mlflow.set_experiment(experiment_name)\n"
   ]
  },
  {
   "cell_type": "code",
   "execution_count": null,
   "metadata": {},
   "outputs": [
    {
     "name": "stdout",
     "output_type": "stream",
     "text": [
      "MLflow Tracking URI: file:///c:/Users/dof07/Desktop/mlflow/mlruns\n"
     ]
    }
   ],
   "source": [
    "print(\"MLflow Tracking URI:\", mlflow.get_tracking_uri())"
   ]
  },
  {
   "cell_type": "code",
   "execution_count": null,
   "metadata": {},
   "outputs": [],
   "source": []
  }
 ],
 "metadata": {
  "kernelspec": {
   "display_name": "mlflow",
   "language": "python",
   "name": "python3"
  },
  "language_info": {
   "codemirror_mode": {
    "name": "ipython",
    "version": 3
   },
   "file_extension": ".py",
   "mimetype": "text/x-python",
   "name": "python",
   "nbconvert_exporter": "python",
   "pygments_lexer": "ipython3",
   "version": "3.10.16"
  }
 },
 "nbformat": 4,
 "nbformat_minor": 2
}
